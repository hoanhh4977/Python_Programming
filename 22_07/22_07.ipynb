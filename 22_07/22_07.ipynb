{
 "cells": [
  {
   "cell_type": "code",
   "execution_count": 1,
   "id": "65ed00ec",
   "metadata": {},
   "outputs": [],
   "source": [
    "a = [5, 8, 3, 12, 7, 10]"
   ]
  },
  {
   "cell_type": "markdown",
   "id": "b8ab2aaa",
   "metadata": {},
   "source": [
    "1.Tìm tích các số chẵn của List bằng While, For, Do While"
   ]
  },
  {
   "cell_type": "code",
   "execution_count": null,
   "id": "64603c0f",
   "metadata": {},
   "outputs": [
    {
     "name": "stdout",
     "output_type": "stream",
     "text": [
      "Tích số chẵn (while): 960\n",
      "Tích số chẵn (for): 960\n",
      "Tích số chẵn (do while): 960\n"
     ]
    }
   ],
   "source": [
    "#1.Tìm tích các số chẵn của List bằng While\n",
    "i = 0\n",
    "product = 1\n",
    "while i < len(a):\n",
    "    if a[i] % 2 == 0:\n",
    "        product *= a[i]\n",
    "    i += 1\n",
    "print(\"Tích số chẵn (while):\", product)\n",
    "#1.Tìm tích các số chẵn của List bằng For\n",
    "product = 1\n",
    "for num in a:\n",
    "    if num % 2 == 0:\n",
    "        product *= num\n",
    "print(\"Tích số chẵn (for):\", product)\n",
    "#1.Tìm tích các số chẵn của List bằng Do While\n",
    "i = 0\n",
    "product = 1\n",
    "while True:\n",
    "    if a[i] % 2 == 0:\n",
    "        product *= a[i]\n",
    "\n",
    "    i += 1\n",
    "    if i >= len(a):\n",
    "        break\n",
    "print(\"Tích số chẵn (do while):\", product)"
   ]
  },
  {
   "cell_type": "markdown",
   "id": "7b616938",
   "metadata": {},
   "source": [
    "2.Tích các vị trí của list "
   ]
  },
  {
   "cell_type": "code",
   "execution_count": 3,
   "id": "4f3c07e5",
   "metadata": {},
   "outputs": [
    {
     "name": "stdout",
     "output_type": "stream",
     "text": [
      "Tích các vị trí: 0\n"
     ]
    }
   ],
   "source": [
    "product = 1\n",
    "for i in range(len(a)):\n",
    "    product *= i\n",
    "print(\"Tích các vị trí:\", product)"
   ]
  },
  {
   "cell_type": "markdown",
   "id": "a03a6ce5",
   "metadata": {},
   "source": [
    "3. Tìm phần tử nhỏ nhất của list"
   ]
  },
  {
   "cell_type": "code",
   "execution_count": 9,
   "id": "bd0717f1",
   "metadata": {},
   "outputs": [
    {
     "name": "stdout",
     "output_type": "stream",
     "text": [
      "Phần tử nhỏ nhất: 3\n"
     ]
    }
   ],
   "source": [
    "min_val = a[0]\n",
    "for num in a:\n",
    "    if num < min_val:\n",
    "        min_val = num\n",
    "print(\"Phần tử nhỏ nhất:\", min_val)"
   ]
  },
  {
   "cell_type": "markdown",
   "id": "76482618",
   "metadata": {},
   "source": [
    "4. Tìm giá trị chẵn nhỏ nhất"
   ]
  },
  {
   "cell_type": "code",
   "execution_count": 8,
   "id": "0a859af5",
   "metadata": {},
   "outputs": [
    {
     "name": "stdout",
     "output_type": "stream",
     "text": [
      "Giá trị chẵn nhỏ nhất: 8\n"
     ]
    }
   ],
   "source": [
    "min_even = None\n",
    "for num in a:\n",
    "    if num % 2 == 0:\n",
    "        if min_even is None or num < min_even:\n",
    "            min_even = num\n",
    "print(\"Giá trị chẵn nhỏ nhất:\", min_even)"
   ]
  }
 ],
 "metadata": {
  "kernelspec": {
   "display_name": "chit",
   "language": "python",
   "name": "python3"
  },
  "language_info": {
   "codemirror_mode": {
    "name": "ipython",
    "version": 3
   },
   "file_extension": ".py",
   "mimetype": "text/x-python",
   "name": "python",
   "nbconvert_exporter": "python",
   "pygments_lexer": "ipython3",
   "version": "3.13.5"
  }
 },
 "nbformat": 4,
 "nbformat_minor": 5
}
